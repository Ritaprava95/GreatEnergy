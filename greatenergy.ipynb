{
  "nbformat": 4,
  "nbformat_minor": 0,
  "metadata": {
    "kernelspec": {
      "display_name": "Python 3",
      "language": "python",
      "name": "python3"
    },
    "language_info": {
      "codemirror_mode": {
        "name": "ipython",
        "version": 3
      },
      "file_extension": ".py",
      "mimetype": "text/x-python",
      "name": "python",
      "nbconvert_exporter": "python",
      "pygments_lexer": "ipython3",
      "version": "3.6.6"
    },
    "colab": {
      "name": "greatenergy.ipynb",
      "provenance": [],
      "collapsed_sections": []
    }
  },
  "cells": [
    {
      "cell_type": "code",
      "metadata": {
        "_cell_guid": "b1076dfc-b9ad-4769-8c92-a6c4dae69d19",
        "_uuid": "8f2839f25d086af736a60e9eeb907d3b93b6e0e5",
        "id": "BBGbS5yqqJDX",
        "colab_type": "code",
        "colab": {}
      },
      "source": [
        "# This Python 3 environment comes with many helpful analytics libraries installed\n",
        "# It is defined by the kaggle/python docker image: https://github.com/kaggle/docker-python\n",
        "# For example, here's several helpful packages to load in \n",
        "\n",
        "import numpy as np \n",
        "import pandas as pd \n",
        "from sklearn.impute import SimpleImputer\n",
        "from sklearn.preprocessing import StandardScaler\n",
        "from sklearn.model_selection import train_test_split\n",
        "from sklearn.linear_model import LogisticRegression, SGDClassifier\n",
        "from sklearn.tree import DecisionTreeClassifier\n",
        "from sklearn.ensemble import RandomForestClassifier\n",
        "from sklearn.linear_model import LinearRegression\n",
        "import xgboost as xgb\n",
        "from keras.models import Model\n",
        "from keras.layers import Input, Dense, Dropout, Activation\n",
        "from keras.optimizers import SGD, Adam\n",
        "from keras.utils import to_categorical\n",
        "import matplotlib.pyplot as plt"
      ],
      "execution_count": 0,
      "outputs": []
    },
    {
      "cell_type": "markdown",
      "metadata": {
        "id": "CPj9NzmvyCP3",
        "colab_type": "text"
      },
      "source": [
        "Let's see the sample submission "
      ]
    },
    {
      "cell_type": "code",
      "metadata": {
        "id": "ZOzQTwTByBSZ",
        "colab_type": "code",
        "colab": {}
      },
      "source": [
        "sample = pd.read_csv('sample_submission.csv')\n",
        "print(sample.head())"
      ],
      "execution_count": 0,
      "outputs": []
    },
    {
      "cell_type": "markdown",
      "metadata": {
        "id": "HPdaPYO1yRF5",
        "colab_type": "text"
      },
      "source": [
        "Importing test data"
      ]
    },
    {
      "cell_type": "code",
      "metadata": {
        "id": "MUj3nLUCyUw_",
        "colab_type": "code",
        "colab": {}
      },
      "source": [
        "test = pd.read_csv('test.csv')\n",
        "test['timestamp'] = pd.to_datetime(test['timestamp'])\n",
        "print(test.head())"
      ],
      "execution_count": 0,
      "outputs": []
    },
    {
      "cell_type": "markdown",
      "metadata": {
        "id": "L60vGZ68ymfm",
        "colab_type": "text"
      },
      "source": [
        "Importing weather data for test"
      ]
    },
    {
      "cell_type": "code",
      "metadata": {
        "id": "ew9-8MdCyqdf",
        "colab_type": "code",
        "colab": {}
      },
      "source": [
        "weather_test = pd.read_csv('weather_test.csv')\n",
        "weather_test['timestamp'] = pd.to_datetime(weather_test['timestamp'])"
      ],
      "execution_count": 0,
      "outputs": []
    },
    {
      "cell_type": "code",
      "metadata": {
        "id": "UJS0-NqTy5T5",
        "colab_type": "code",
        "colab": {}
      },
      "source": [
        "weather_cols = weather_test.columns\n",
        "imp = SimpleImputer(missing_values=np.nan, strategy='most_frequent')\n",
        "weather_test = imp.fit_transform(weather_test)"
      ],
      "execution_count": 0,
      "outputs": []
    },
    {
      "cell_type": "code",
      "metadata": {
        "id": "bhDLyVqhzWbq",
        "colab_type": "code",
        "colab": {}
      },
      "source": [
        "weather_test = pd.DataFrame(data=weather_test, columns=weather_cols)"
      ],
      "execution_count": 0,
      "outputs": []
    },
    {
      "cell_type": "markdown",
      "metadata": {
        "id": "siBH86DWzcq7",
        "colab_type": "text"
      },
      "source": [
        "Scaling the weather_test dataset"
      ]
    },
    {
      "cell_type": "code",
      "metadata": {
        "id": "vqLoth73zhB7",
        "colab_type": "code",
        "colab": {}
      },
      "source": [
        "scaler = StandardScaler()\n",
        "weather_test[['air_temperature', 'cloud_coverage', 'dew_temperature', 'precip_depth_1_hr', 'sea_level_pressure', 'wind_direction', 'wind_speed']] = scaler.fit_transform(weather_test[['air_temperature', 'cloud_coverage', 'dew_temperature', 'precip_depth_1_hr', 'sea_level_pressure', 'wind_direction', 'wind_speed']]) "
      ],
      "execution_count": 0,
      "outputs": []
    },
    {
      "cell_type": "code",
      "metadata": {
        "id": "PvVA_sh_zw4n",
        "colab_type": "code",
        "colab": {}
      },
      "source": [
        "print(weather_test.head())"
      ],
      "execution_count": 0,
      "outputs": []
    },
    {
      "cell_type": "markdown",
      "metadata": {
        "id": "ohQoLN4mz3lm",
        "colab_type": "text"
      },
      "source": [
        "Importing traing and weather_traing data"
      ]
    },
    {
      "cell_type": "code",
      "metadata": {
        "id": "PXnl3HDnzw9p",
        "colab_type": "code",
        "colab": {}
      },
      "source": [
        "train = pd.read_csv('train.csv')\n",
        "weather_train = pd.read_csv('weather_train.csv')"
      ],
      "execution_count": 0,
      "outputs": []
    },
    {
      "cell_type": "markdown",
      "metadata": {
        "id": "swPdVeun0OBR",
        "colab_type": "text"
      },
      "source": [
        "Importing metadata"
      ]
    },
    {
      "cell_type": "code",
      "metadata": {
        "id": "h_Q0WRc-0PDJ",
        "colab_type": "code",
        "colab": {}
      },
      "source": [
        "metadata = pd.read_csv('building_metadata.csv')"
      ],
      "execution_count": 0,
      "outputs": []
    },
    {
      "cell_type": "markdown",
      "metadata": {
        "id": "qRI9TG7j0dUp",
        "colab_type": "text"
      },
      "source": [
        "Typecasting of column 'timestamp'"
      ]
    },
    {
      "cell_type": "code",
      "metadata": {
        "id": "Kf9eeOlI0jjI",
        "colab_type": "code",
        "colab": {}
      },
      "source": [
        "train['timestamp'] = pd.to_datetime(train['timestamp'])\n",
        "weather_train['timestamp'] = pd.to_datetime(weather_train['timestamp'])\n"
      ],
      "execution_count": 0,
      "outputs": []
    },
    {
      "cell_type": "code",
      "metadata": {
        "id": "QpsCtPCr0y_m",
        "colab_type": "code",
        "colab": {}
      },
      "source": [
        "weather_cols = weather_train.columns\n",
        "imp = SimpleImputer(missing_values=np.nan, strategy='most_frequent')\n",
        "weather_train = imp.fit_transform(weather_train)\n",
        "weather_train = pd.DataFrame(data=weather_train, columns=weather_cols)"
      ],
      "execution_count": 0,
      "outputs": []
    },
    {
      "cell_type": "markdown",
      "metadata": {
        "id": "VbC1SEOe0_Ms",
        "colab_type": "text"
      },
      "source": [
        "Scaling"
      ]
    },
    {
      "cell_type": "code",
      "metadata": {
        "id": "GwD7PG-f1Buc",
        "colab_type": "code",
        "colab": {}
      },
      "source": [
        "scaler = StandardScaler()\n",
        "weather_train[['air_temperature', 'cloud_coverage', 'dew_temperature', 'precip_depth_1_hr', 'sea_level_pressure', 'wind_direction', 'wind_speed']] = scaler.fit_transform(weather_train[['air_temperature', 'cloud_coverage', 'dew_temperature', 'precip_depth_1_hr', 'sea_level_pressure', 'wind_direction', 'wind_speed']])"
      ],
      "execution_count": 0,
      "outputs": []
    },
    {
      "cell_type": "markdown",
      "metadata": {
        "id": "e1DDHsqm1KkA",
        "colab_type": "text"
      },
      "source": [
        "To handle categorical data"
      ]
    },
    {
      "cell_type": "code",
      "metadata": {
        "id": "dwBpIKst1EYB",
        "colab_type": "code",
        "colab": {}
      },
      "source": [
        "metadata = pd.get_dummies(metadata)"
      ],
      "execution_count": 0,
      "outputs": []
    },
    {
      "cell_type": "code",
      "metadata": {
        "id": "xHDXf9zY1VNm",
        "colab_type": "code",
        "colab": {}
      },
      "source": [
        "metadata_cols = metadata.columns\n",
        "imp = SimpleImputer(missing_values=np.nan, strategy='most_frequent')\n",
        "metadata = imp.fit_transform(metadata)\n",
        "metadata = pd.DataFrame(data=metadata, columns=metadata_cols)"
      ],
      "execution_count": 0,
      "outputs": []
    },
    {
      "cell_type": "markdown",
      "metadata": {
        "id": "A4dLwrRW1gge",
        "colab_type": "text"
      },
      "source": [
        "Scaling metadata"
      ]
    },
    {
      "cell_type": "code",
      "metadata": {
        "id": "9QTYKk_Z1lwY",
        "colab_type": "code",
        "colab": {}
      },
      "source": [
        "scaler = StandardScaler()\n",
        "metadata[['square_feet', 'floor_count']] = scaler.fit_transform(metadata[['square_feet', 'floor_count']])"
      ],
      "execution_count": 0,
      "outputs": []
    },
    {
      "cell_type": "markdown",
      "metadata": {
        "id": "oUcj01Yo1tqO",
        "colab_type": "text"
      },
      "source": [
        "Joining weather_train and metadata"
      ]
    },
    {
      "cell_type": "code",
      "metadata": {
        "id": "IfSn2NPQ1uiT",
        "colab_type": "code",
        "colab": {}
      },
      "source": [
        "weather_metadata_train = pd.merge(weather_train, metadata, how='left', left_on=['site_id'], right_on=['site_id'])"
      ],
      "execution_count": 0,
      "outputs": []
    },
    {
      "cell_type": "markdown",
      "metadata": {
        "id": "EtywtxWC2Eif",
        "colab_type": "text"
      },
      "source": [
        "Generating mini batches for training "
      ]
    },
    {
      "cell_type": "code",
      "metadata": {
        "id": "1EZOzEwy2Ipr",
        "colab_type": "code",
        "colab": {}
      },
      "source": [
        "def get_batches(batch_size, data, weather_metadata):\n",
        "    i = 0\n",
        "    while i+batch_size < len(train):\n",
        "        batch_data = data.iloc[i:i+batch_size,:]\n",
        "        #joining minibatch of train data with weather_metadata_train\n",
        "        batch_data = pd.merge(batch_data, weather_metadata, how='left', left_on=['timestamp', 'building_id'], right_on=['timestamp', 'building_id'])\n",
        "        batch_data_X = batch_data.drop(columns=['meter_reading'])\n",
        "        batch_data_X['year'] = pd.DatetimeIndex(batch_data_X['timestamp']).year\n",
        "        batch_data_X['age'] = np.array(batch_data_X.year)- np.array(batch_data_X.year_built)\n",
        "        batch_data_X = batch_data_X.drop(columns=['timestamp', 'year_built', 'year', 'site_id', 'building_id'])\n",
        "        batch_data_X_col = batch_data_X.columns\n",
        "        imp = SimpleImputer(missing_values = np.nan, strategy='median')\n",
        "        batch_data_X = imp.fit_transform(batch_data_X)\n",
        "        batch_data_X = pd.DataFrame(data=batch_data_X, columns=batch_data_X_col)\n",
        "        batch_data_y = batch_data['meter_reading']\n",
        "        yield batch_data_X, batch_data_y\n",
        "        i += batch_size"
      ],
      "execution_count": 0,
      "outputs": []
    },
    {
      "cell_type": "code",
      "metadata": {
        "id": "7B9lGzak2ads",
        "colab_type": "code",
        "colab": {}
      },
      "source": [
        "mini_batches = get_batches(40000, train, weather_metadata_train)\n",
        "\n",
        "model = SGDRegressor(loss = 'squared_loss', penalty = 'l2')\n",
        "\n",
        "count = 0 \n",
        "for train_X, train_y in mini_batches:\n",
        "    print(count)\n",
        "    count+=1\n",
        "    model.partial_fit(train_X, train_y)\n",
        "    print(model.score(train_X, train_y))\n",
        "   \n",
        "print(model.score(train_X, train_y))"
      ],
      "execution_count": 0,
      "outputs": []
    },
    {
      "cell_type": "markdown",
      "metadata": {
        "id": "S7j-vT2L2fU2",
        "colab_type": "text"
      },
      "source": [
        "Joining metadata and weather_test data"
      ]
    },
    {
      "cell_type": "code",
      "metadata": {
        "id": "5Xmu9U3u2bsa",
        "colab_type": "code",
        "colab": {}
      },
      "source": [
        "weather_metadata_test = pd.merge(weather_test, metadata, how='left', left_on=['site_id'], right_on=['site_id'])"
      ],
      "execution_count": 0,
      "outputs": []
    },
    {
      "cell_type": "code",
      "metadata": {
        "id": "30ZGPChk2qsF",
        "colab_type": "code",
        "colab": {}
      },
      "source": [
        "def get_batches_test(batch_size, data, weather_metadata):\n",
        "    i = 0\n",
        "    while i+batch_size < len(train):\n",
        "        batch_data = data.iloc[i:i+batch_size,:]\n",
        "        batch_data = pd.merge(batch_data, weather_metadata, how='left', left_on=['timestamp', 'building_id'], right_on=['timestamp', 'building_id'])\n",
        "        batch_data_X['year'] = pd.DatetimeIndex(batch_data_X['timestamp']).year\n",
        "        batch_data_X['age'] = np.array(batch_data_X.year)- np.array(batch_data_X.year_built)\n",
        "        batch_data_X = batch_data_X.drop(columns=['timestamp', 'year_built', 'year', 'site_id', 'building_id'])\n",
        "        batch_data_X_col = batch_data_X.columns\n",
        "        imp = SimpleImputer(missing_values = np.nan, strategy='median')\n",
        "        batch_data_X = imp.fit_transform(batch_data_X)\n",
        "        batch_data_X = pd.DataFrame(data=batch_data_X, columns=batch_data_X_col)\n",
        "        yield batch_data_X\n",
        "        i += batch_size"
      ],
      "execution_count": 0,
      "outputs": []
    },
    {
      "cell_type": "code",
      "metadata": {
        "id": "IavbJtSt2sEI",
        "colab_type": "code",
        "colab": {}
      },
      "source": [
        "mini_batches = get_batches_test(40000, test, weather_metadata_test)\n",
        "count = 0 \n",
        "preds = []\n",
        "for test_X in mini_batches:\n",
        "    print(count)\n",
        "    count+=1\n",
        "    preds = preds+list(model.predict(test_X))"
      ],
      "execution_count": 0,
      "outputs": []
    }
  ]
}
